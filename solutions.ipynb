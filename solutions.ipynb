{
 "cells": [
  {
   "cell_type": "markdown",
   "metadata": {},
   "source": [
    "# Advent of Code 2024"
   ]
  },
  {
   "cell_type": "code",
   "execution_count": 5,
   "metadata": {},
   "outputs": [],
   "source": [
    "import numpy as np\n",
    "import pandas as pd"
   ]
  },
  {
   "cell_type": "code",
   "execution_count": 6,
   "metadata": {},
   "outputs": [],
   "source": [
    "def read_input(number):\n",
    "  return np.loadtxt(f\"inputs/{number}.txt\", dtype=int)"
   ]
  },
  {
   "cell_type": "markdown",
   "metadata": {},
   "source": [
    "### 1.1"
   ]
  },
  {
   "cell_type": "code",
   "execution_count": 18,
   "metadata": {},
   "outputs": [
    {
     "data": {
      "text/plain": [
       "np.int64(2000468)"
      ]
     },
     "execution_count": 18,
     "metadata": {},
     "output_type": "execute_result"
    }
   ],
   "source": [
    "data = read_input(1)\n",
    "sorted_data = np.sort(data, axis=0)\n",
    "np.abs(sorted_data[:, 0] - sorted_data[:, 1]).sum()"
   ]
  },
  {
   "cell_type": "markdown",
   "metadata": {},
   "source": [
    "### 1.2"
   ]
  },
  {
   "cell_type": "code",
   "execution_count": 35,
   "metadata": {},
   "outputs": [
    {
     "data": {
      "text/plain": [
       "np.float64(18567089.0)"
      ]
     },
     "execution_count": 35,
     "metadata": {},
     "output_type": "execute_result"
    }
   ],
   "source": [
    "counts = pd.concat(\n",
    "  [\n",
    "    pd.Series(sorted_data[:, 0]).value_counts().rename(\"0\"),\n",
    "    pd.Series(sorted_data[:, 1]).value_counts().rename(\"1\"),\n",
    "  ],\n",
    "  axis=1,\n",
    ").dropna()\n",
    "\n",
    "(counts.iloc[:, 0] * counts.iloc[:, 1]*counts.index).sum()"
   ]
  },
  {
   "cell_type": "markdown",
   "metadata": {},
   "source": [
    "#### 2.1"
   ]
  },
  {
   "cell_type": "code",
   "execution_count": 28,
   "metadata": {},
   "outputs": [],
   "source": [
    "reports = [np.fromiter(line.split(), int) for line in open('inputs/2.txt')]"
   ]
  },
  {
   "cell_type": "code",
   "execution_count": 38,
   "metadata": {},
   "outputs": [],
   "source": [
    "def is_safe(report):\n",
    "  changes = np.diff(report)\n",
    "  signs = np.sign(changes)\n",
    "  return signs[0] != 0 and (signs == signs[0]).all() and (np.abs(changes) <= 3).all()"
   ]
  },
  {
   "cell_type": "code",
   "execution_count": 40,
   "metadata": {},
   "outputs": [
    {
     "data": {
      "text/plain": [
       "np.int64(502)"
      ]
     },
     "execution_count": 40,
     "metadata": {},
     "output_type": "execute_result"
    }
   ],
   "source": [
    "sum(map(is_safe, reports))"
   ]
  },
  {
   "cell_type": "markdown",
   "metadata": {},
   "source": [
    "#### 2.2"
   ]
  },
  {
   "cell_type": "code",
   "execution_count": null,
   "metadata": {},
   "outputs": [],
   "source": [
    "def are_valid_changes(changes, possible_sign):\n",
    "  return (np.sign(changes) == possible_sign) & (np.abs(changes) <= 3)\n",
    "\n",
    "def is_safe_with_dampener(report):\n",
    "  if report.size < 3:\n",
    "    return True\n",
    "  if report.size == 3:\n",
    "    return report[1] != report[0] or report[2] != report[0]\n",
    "  \n",
    "  changes = np.diff(report)\n",
    "  signs = np.sign(changes)\n",
    "  for possible_sign in [-1, 1]:\n",
    "    errors = ~are_valid_changes(changes, possible_sign)\n",
    "    n_errors = errors.sum()\n",
    "    if n_errors > 1:\n",
    "      continue\n",
    "    if n_errors == 1:\n",
    "      idx = np.argmax(errors)\n",
    "      if idx == 0 or idx == changes.size() - 1:\n",
    "        return True\n",
    "      change1 = changes[idx] + changes[idx + 1]\n",
    "      if np.sign(change1) == possible_sign and np.abs(change1) <= 3:\n",
    "        True\n",
    "      change2 = changes[idx-1] + changes[idx]\n",
    "      if np.sign(change2) == possible_sign and np.abs(change2) <= 3:\n",
    "\n",
    "    \n",
    "    return True\n",
    "  return False\n",
    "\n",
    "  signs = np.sign(changes)\n",
    "\n",
    "  errors = (signs == 0) & ()\n",
    "  return signs[0] != 0 and (signs == signs[0]).all() and (np.abs(changes) <= 3).all()"
   ]
  }
 ],
 "metadata": {
  "kernelspec": {
   "display_name": "advent",
   "language": "python",
   "name": "python3"
  },
  "language_info": {
   "codemirror_mode": {
    "name": "ipython",
    "version": 3
   },
   "file_extension": ".py",
   "mimetype": "text/x-python",
   "name": "python",
   "nbconvert_exporter": "python",
   "pygments_lexer": "ipython3",
   "version": "3.13.0"
  }
 },
 "nbformat": 4,
 "nbformat_minor": 2
}
